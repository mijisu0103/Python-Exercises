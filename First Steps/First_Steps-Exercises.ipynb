{
 "cells": [
  {
   "cell_type": "markdown",
   "metadata": {},
   "source": [
    "###  1- Hello World"
   ]
  },
  {
   "cell_type": "markdown",
   "metadata": {},
   "source": [
    "Write a program that prints ```\"Hello World\"```. Don't use the notebook.\n",
    "* If you are working on your machine, use any text editor such as the simple Notepad or IDLE\n",
    "    * create a file called hello.py\n",
    "    * write the necessary code inside\n",
    "    * save the file\n",
    "    * open a command shell and change to the directory that contains the file\n",
    "    * run the file from the command line: ```python hello.py```\n",
    "    * watch ecstatically\n",
    "* If using a Binder or JupyterHub:\n",
    "    * click on new->terminal from the directory tab to open a terminal\n",
    "    * if necessary, in JupyterHub: change to the directory that contains the file\n",
    "    * type ```python hello.py``` to run the hello.py file provided\n",
    "    * watch ecstatically \n",
    "    * open the file from the directory page by clicking on it, modify it as suggested in Exercise 2 and save it\n",
    "    * try running it again\n",
    "\n",
    "If you get stuck, try doing this in a Binder - everything should just work out of the box."
   ]
  },
  {
   "cell_type": "code",
   "execution_count": 1,
   "metadata": {},
   "outputs": [
    {
     "name": "stdout",
     "output_type": "stream",
     "text": [
      "Hello World\n"
     ]
    }
   ],
   "source": [
    "print(\"Hello World\")"
   ]
  },
  {
   "cell_type": "markdown",
   "metadata": {},
   "source": [
    "### 2 - Proof of residence"
   ]
  },
  {
   "cell_type": "markdown",
   "metadata": {},
   "source": [
    "Modify your program so that it prints your name and address as you would on an envelope"
   ]
  },
  {
   "cell_type": "code",
   "execution_count": 2,
   "metadata": {},
   "outputs": [
    {
     "name": "stdout",
     "output_type": "stream",
     "text": [
      "Jisu Hayloft Point, 10 Middlesex Street, Block B 2005J, London, United Kingdom\n"
     ]
    }
   ],
   "source": [
    "name = \"Jisu\"\n",
    "address = \"Hayloft Point, 10 Middlesex Street, Block B 2005J, London, United Kingdom\"\n",
    "print (name, address)"
   ]
  },
  {
   "cell_type": "markdown",
   "metadata": {},
   "source": [
    "### 3 - Bugger off"
   ]
  },
  {
   "cell_type": "markdown",
   "metadata": {},
   "source": [
    "Write a program that asks for your name and insults you. From now on, I suggest you use the notebook - just click on the + sign in the toolbar to add a new code cell below this text if one isn't there already"
   ]
  },
  {
   "cell_type": "code",
   "execution_count": 3,
   "metadata": {},
   "outputs": [
    {
     "name": "stdout",
     "output_type": "stream",
     "text": [
      "Bet you are still sleepy Jisu\n"
     ]
    }
   ],
   "source": [
    "name = input(\"What's your name? \")\n",
    "print(\"Bet you are still sleepy\", name)"
   ]
  },
  {
   "cell_type": "markdown",
   "metadata": {},
   "source": [
    "### 4 - Star Trek"
   ]
  },
  {
   "cell_type": "markdown",
   "metadata": {},
   "source": [
    "Write a program that asks you for a speed in km/h and converts it to furlongs/fortnight (ask Google for help with the conversion factor). Use it to convert the speed or light to furlongs/fortnight."
   ]
  },
  {
   "cell_type": "code",
   "execution_count": 6,
   "metadata": {},
   "outputs": [
    {
     "name": "stdout",
     "output_type": "stream",
     "text": [
      "Your speed in 5 km/h is converted to 8351.2288 furlongs/fortnight\n"
     ]
    }
   ],
   "source": [
    "speed = input(\"Type your speed in km/h\")\n",
    "print(f\"Your speed in {speed} km/h is converted to\", float(speed) * 1670.24576, \"furlongs/fortnight\")"
   ]
  },
  {
   "cell_type": "markdown",
   "metadata": {},
   "source": [
    "### 5 - The real deal"
   ]
  },
  {
   "cell_type": "markdown",
   "metadata": {},
   "source": [
    "Write a program that asks for the length and width of your average studio shoebox in meters. Multiply the area by 19500 to obtain its price in Kensington, in pounds. Store in a variable and print the result including units. \n",
    "\n",
    "Multiply the average UK salary of £26500 by 0.75 to deduce taxes. Divide the price by the net salary to obtain the number of man-years it takes the average bloke to pay for the average shoebox.  \n",
    "\n",
    "Print all results including units. Use meaningful variable names for all the parameters (salary, cost per square meters). Include comments."
   ]
  },
  {
   "cell_type": "code",
   "execution_count": 14,
   "metadata": {},
   "outputs": [
    {
     "name": "stdout",
     "output_type": "stream",
     "text": [
      "5 m  5 m  25.0 sqm £ 487500.0\n",
      "length:  5 m  width:  5 m  area:  25.0 sqm price in Kensington:  £ 487500.0 net salary:  19875.0 the number of man-years:  24.528301886792452 years\n"
     ]
    }
   ],
   "source": [
    "#Ask for length and width -- use split to ask for both\n",
    "length = input(\"Enter length of your average studio shoebox in meters: \")\n",
    "width = input(\"Enter width of your average studio shoebox in meters: \")\n",
    "#Calculate area using given length and width\n",
    "area = float(length) * float(width)\n",
    "\n",
    "#Calculate price using calculated area\n",
    "price = area * 19500\n",
    "\n",
    "#Print results \n",
    "print(length, \"m \", width, \"m \", area, \"sqm\", \"£\", price)\n",
    "\n",
    "#Calculate the net salary\n",
    "netsal = 26500 * 0.75\n",
    "\n",
    "#Calculate the number of man-years it takes the average bloke to pay for the average shoebox\n",
    "years = price/netsal\n",
    "\n",
    "#Print all results\n",
    "print(\"length: \", length, \"m \", \"width: \", width, \"m \", \"area: \", area, \"sqm\", \"price in Kensington: \", \"£\", price, \"net salary: \", netsal, \"the number of man-years: \", years, \"years\")"
   ]
  },
  {
   "cell_type": "markdown",
   "metadata": {},
   "source": [
    "### 6 - Happy birthday"
   ]
  },
  {
   "cell_type": "markdown",
   "metadata": {},
   "source": [
    "Now for something a bit more cheerful: write a program that asks you for your age and prints ```\"Happy Birthday\"``` once for each year. Use the ```*```operator on a string to do that."
   ]
  },
  {
   "cell_type": "code",
   "execution_count": 15,
   "metadata": {},
   "outputs": [
    {
     "name": "stdout",
     "output_type": "stream",
     "text": [
      "Happy Birthday Happy Birthday Happy Birthday Happy Birthday Happy Birthday Happy Birthday Happy Birthday Happy Birthday Happy Birthday Happy Birthday Happy Birthday Happy Birthday Happy Birthday Happy Birthday Happy Birthday Happy Birthday Happy Birthday Happy Birthday Happy Birthday Happy Birthday Happy Birthday Happy Birthday Happy Birthday \n"
     ]
    }
   ],
   "source": [
    "age = input(\"How old are you? \")\n",
    "print(\"Happy Birthday \" * int(age))"
   ]
  },
  {
   "cell_type": "markdown",
   "metadata": {},
   "source": [
    "### 7 - Operator madness"
   ]
  },
  {
   "cell_type": "markdown",
   "metadata": {},
   "source": [
    "Look up Python operators [here](http://www.tutorialspoint.com/python/python_basic_operators.htm). Try out all Arithmetic, Comparison, and Assignment operators in the cell below. Feel free to define variables, create more cells, write down notes and ask questions. Remember to save this notebook when you are done. NOTE: The \"not equal\" operator in Python 3 is ```!=```, ```<>``` no longer works."
   ]
  },
  {
   "cell_type": "code",
   "execution_count": 16,
   "metadata": {},
   "outputs": [
    {
     "name": "stdout",
     "output_type": "stream",
     "text": [
      "a: 21 b: 10 a+b: 31\n",
      "a: 21 b: 10 a-b: 11\n",
      "a: 21 b: 10 a*b: 210\n",
      "a: 21 b: 10 a/b: 2.1\n",
      "a: 21 b: 10 a%b: 1\n",
      "a: 2 b: 3 a**b: 8\n",
      "a: 10 b: 5 a//b: 2\n"
     ]
    }
   ],
   "source": [
    "#Arithmetic\n",
    "a = 21\n",
    "b = 10\n",
    "c = 0\n",
    "\n",
    "c = a + b\n",
    "print (\"a: {} b: {} a+b: {}\".format(a,b,c))\n",
    "\n",
    "c = a - b\n",
    "print (\"a: {} b: {} a-b: {}\".format(a,b,c) )\n",
    "\n",
    "c = a * b\n",
    "print (\"a: {} b: {} a*b: {}\".format(a,b,c))\n",
    "\n",
    "c = a / b\n",
    "print (\"a: {} b: {} a/b: {}\".format(a,b,c))\n",
    "\n",
    "c = a % b\n",
    "print (\"a: {} b: {} a%b: {}\".format(a,b,c))\n",
    "\n",
    "a = 2\n",
    "b = 3\n",
    "c = a**b \n",
    "print (\"a: {} b: {} a**b: {}\".format(a,b,c))\n",
    "\n",
    "a = 10\n",
    "b = 5\n",
    "c = a//b \n",
    "print (\"a: {} b: {} a//b: {}\".format(a,b,c))\n"
   ]
  },
  {
   "cell_type": "code",
   "execution_count": 17,
   "metadata": {},
   "outputs": [
    {
     "name": "stdout",
     "output_type": "stream",
     "text": [
      "Line 1 - a is not equal to b\n",
      "Line 2 - a is not equal to b\n",
      "Line 3 - a is not less than b\n",
      "Line 4 - a is greater than b\n",
      "Line 5 - a is either less than or equal to  b\n",
      "Line 6 - b is either greater than  or equal to b\n"
     ]
    }
   ],
   "source": [
    "#Comparison\n",
    "a = 21\n",
    "b = 10\n",
    "if ( a == b ):\n",
    "   print (\"Line 1 - a is equal to b\")\n",
    "else:\n",
    "   print (\"Line 1 - a is not equal to b\")\n",
    "\n",
    "if ( a != b ):\n",
    "   print (\"Line 2 - a is not equal to b\")\n",
    "else:\n",
    "   print (\"Line 2 - a is equal to b\")\n",
    "\n",
    "if ( a < b ):\n",
    "   print (\"Line 3 - a is less than b\" )\n",
    "else:\n",
    "   print (\"Line 3 - a is not less than b\")\n",
    "\n",
    "if ( a > b ):\n",
    "   print (\"Line 4 - a is greater than b\")\n",
    "else:\n",
    "   print (\"Line 4 - a is not greater than b\")\n",
    "\n",
    "a,b=b,a #values of a and b swapped. a becomes 10, b becomes 21\n",
    "\n",
    "if ( a <= b ):\n",
    "   print (\"Line 5 - a is either less than or equal to  b\")\n",
    "else:\n",
    "   print (\"Line 5 - a is neither less than nor equal to  b\")\n",
    "\n",
    "if ( b >= a ):\n",
    "   print (\"Line 6 - b is either greater than  or equal to b\")\n",
    "else:\n",
    "   print (\"Line 6 - b is neither greater than  nor equal to b\")"
   ]
  },
  {
   "cell_type": "code",
   "execution_count": 18,
   "metadata": {},
   "outputs": [
    {
     "name": "stdout",
     "output_type": "stream",
     "text": [
      "a: 21 b: 10 c : 0\n",
      "a: 21  c = a + b: 31\n",
      "a: 21 c += a: 52\n",
      "a: 21 c *= a: 1092\n",
      "a: 21 c /= a : 52.0\n",
      "a: 21 b: 10 c : 2\n",
      "a: 21 c %= a: 2\n",
      "a: 21 c **= a: 2097152\n",
      "a: 21 c //= a: 99864\n"
     ]
    }
   ],
   "source": [
    "#Assignment\n",
    "a = 21\n",
    "b = 10\n",
    "c = 0\n",
    "print (\"a: {} b: {} c : {}\".format(a,b,c))\n",
    "c = a + b\n",
    "print (\"a: {}  c = a + b: {}\".format(a,c))\n",
    "\n",
    "c += a\n",
    "print (\"a: {} c += a: {}\".format(a,c))\n",
    "\n",
    "c *= a\n",
    "print (\"a: {} c *= a: {}\".format(a,c))\n",
    "\n",
    "c /= a \n",
    "print (\"a: {} c /= a : {}\".format(a,c))\n",
    "\n",
    "c  = 2\n",
    "print (\"a: {} b: {} c : {}\".format(a,b,c))\n",
    "c %= a\n",
    "print (\"a: {} c %= a: {}\".format(a,c))\n",
    "\n",
    "c **= a\n",
    "print (\"a: {} c **= a: {}\".format(a,c))\n",
    "\n",
    "c //= a\n",
    "print (\"a: {} c //= a: {}\".format(a,c))"
   ]
  },
  {
   "cell_type": "markdown",
   "metadata": {},
   "source": [
    "### 8 - Tea for You"
   ]
  },
  {
   "cell_type": "markdown",
   "metadata": {},
   "source": [
    "Amazingly, we can already tackle some simple problems in Bioinformatics: in genomics databases, sequences are given sometimes as DNA, and sometimes as RNA. The difference is a substituton of Thymine (written down as ```'T'```) with Uracil (written as ```'U'```). The other three letters allowed are in both cases ```'A'```, ```'C'```, ```'G'```.\n",
    "\n",
    "Write a program that replaces ```'U'``` with ```'T'``` in RNA sequences, making sure that it works whether the string is uppercase or lowercase and always outputs an uppercase string. Hint: to obtain help on, for instance, the ```str.replace()``` method type ```help(str.replace)``` in the cell below. Typing ```dir(str)``` will list all methods."
   ]
  },
  {
   "cell_type": "code",
   "execution_count": 20,
   "metadata": {},
   "outputs": [
    {
     "name": "stdout",
     "output_type": "stream",
     "text": [
      "CGATTGCCGAATAGT\n"
     ]
    }
   ],
   "source": [
    "rna = \"CGAUUGCCGAAUAGU\"\n",
    "rna = rna.upper()\n",
    "rna = rna.replace('U', 'T')\n",
    "print(rna)"
   ]
  },
  {
   "cell_type": "markdown",
   "metadata": {},
   "source": [
    "### 9 - With complements"
   ]
  },
  {
   "cell_type": "markdown",
   "metadata": {},
   "source": [
    "The double helix of DNA is made of 2 strands, that latch on to each other like a zipper. Each strand is said to be the \"complement\" of the other (see the picture [here](https://en.wikipedia.org/wiki/DNA_replication)). Given a sequence, the complement is obtained by substituting ```'A'``` for ```'T'```, ```'T'``` for ```'A'```, ```'C'``` for ```'G'``` and ```'G'``` for ```'C'```, so that for instance the complement of ```\"GATTACA\"``` is ```\"CTAATGT\"```.\n",
    "\n",
    "This is stretching it a bit, but there is a way to use ```str.replace()``` to transform a DNA sequence into its complement. Can you do that? It isn't hard to do, but there's a catch. Write a program that asks you for a sequence and outputs the complement."
   ]
  },
  {
   "cell_type": "code",
   "execution_count": 21,
   "metadata": {},
   "outputs": [],
   "source": [
    "seq = input(\"What's the RNA sequence? \")\n",
    "seq = seq.upper()\n",
    "seq.replace('A', 't')\n",
    "seq.replace('T', 'A')\n",
    "seq.replace('C', 'g')\n",
    "seq.replace('G', 'c')\n",
    "seq = seq.upper()\n",
    "print(seq)"
   ]
  }
 ],
 "metadata": {
  "kernelspec": {
   "display_name": "kernel",
   "language": "python",
   "name": "jisu"
  },
  "language_info": {
   "codemirror_mode": {
    "name": "ipython",
    "version": 3
   },
   "file_extension": ".py",
   "mimetype": "text/x-python",
   "name": "python",
   "nbconvert_exporter": "python",
   "pygments_lexer": "ipython3",
   "version": "3.12.7"
  }
 },
 "nbformat": 4,
 "nbformat_minor": 4
}
